{
 "cells": [
  {
   "cell_type": "code",
   "execution_count": 1,
   "metadata": {},
   "outputs": [],
   "source": [
    "import os\n",
    "import pandas as pd\n",
    "import matplotlib.pyplot as plt"
   ]
  },
  {
   "cell_type": "code",
   "execution_count": 2,
   "metadata": {},
   "outputs": [],
   "source": [
    "DATASET = \"L4\""
   ]
  },
  {
   "cell_type": "code",
   "execution_count": 15,
   "metadata": {},
   "outputs": [],
   "source": [
    "REGION_FILES = {\n",
    "    \"Capital\" : \"NY_Millbrook_3_W\",\n",
    "    \"Central\" : \"NY_Millbrook_3_W\",\n",
    "    \"Dunwoody\" : \"NY_Millbrook_3_W\",\n",
    "    \"Genese\" : \"NY_Ithaca_13_E\",\n",
    "    \"Hudson\" : \"NY_Millbrook_3_W\",\n",
    "    \"LongIsland\" : \"NY_Millbrook_3_W\",\n",
    "    \"Milwood\" : \"NY_Millbrook_3_W\",\n",
    "    \"NYC\" : \"NY_Millbrook_3_W\"\n",
    "}\n",
    "\n",
    "\n",
    "YEAR_FILES = {\n",
    "    \"2015\": \"INVALID\",\n",
    "    \"2016\": \"INVALID\", \n",
    "    \"2017\": \"INVALID\", \n",
    "    \"2018\": \"INVALID\", \n",
    "    \"2019\": \"INVALID\"\n",
    "}\n",
    "\n",
    "PREFIX = \"CRNH0203\"\n",
    "SEP = \"-\"\n",
    "SUFFIX = \".txt\""
   ]
  },
  {
   "cell_type": "code",
   "execution_count": 6,
   "metadata": {},
   "outputs": [
    {
     "name": "stdout",
     "output_type": "stream",
     "text": [
      "CAPITAL\n",
      "CRNH0203-2015-NY_Millbrook_3_W.txt\n",
      "CRNH0203-2016-NY_Millbrook_3_W.txt\n",
      "CRNH0203-2017-NY_Millbrook_3_W.txt\n",
      "CRNH0203-2018-NY_Millbrook_3_W.txt\n",
      "CRNH0203-2019-NY_Millbrook_3_W.txt\n",
      "CENTRAL\n",
      "CRNH0203-2015-NY_Millbrook_3_W.txt\n",
      "CRNH0203-2016-NY_Millbrook_3_W.txt\n",
      "CRNH0203-2017-NY_Millbrook_3_W.txt\n",
      "CRNH0203-2018-NY_Millbrook_3_W.txt\n",
      "CRNH0203-2019-NY_Millbrook_3_W.txt\n",
      "DUNWOD\n",
      "CRNH0203-2015-NY_Millbrook_3_W.txt\n",
      "CRNH0203-2016-NY_Millbrook_3_W.txt\n",
      "CRNH0203-2017-NY_Millbrook_3_W.txt\n",
      "CRNH0203-2018-NY_Millbrook_3_W.txt\n",
      "CRNH0203-2019-NY_Millbrook_3_W.txt\n",
      "GENESE\n",
      "CRNH0203-2015-NY_Ithaca_13_E.txt\n",
      "CRNH0203-2016-NY_Ithaca_13_E.txt\n",
      "CRNH0203-2017-NY_Ithaca_13_E.txt\n",
      "CRNH0203-2018-NY_Ithaca_13_E.txt\n",
      "CRNH0203-2019-NY_Ithaca_13_E.txt\n",
      "HUD VL\n",
      "CRNH0203-2015-NY_Millbrook_3_W.txt\n",
      "CRNH0203-2016-NY_Millbrook_3_W.txt\n",
      "CRNH0203-2017-NY_Millbrook_3_W.txt\n",
      "CRNH0203-2018-NY_Millbrook_3_W.txt\n",
      "CRNH0203-2019-NY_Millbrook_3_W.txt\n",
      "LONGIL\n",
      "CRNH0203-2015-NY_Millbrook_3_W.txt\n",
      "CRNH0203-2016-NY_Millbrook_3_W.txt\n",
      "CRNH0203-2017-NY_Millbrook_3_W.txt\n",
      "CRNH0203-2018-NY_Millbrook_3_W.txt\n",
      "CRNH0203-2019-NY_Millbrook_3_W.txt\n",
      "MILLWD\n",
      "CRNH0203-2015-NY_Millbrook_3_W.txt\n",
      "CRNH0203-2016-NY_Millbrook_3_W.txt\n",
      "CRNH0203-2017-NY_Millbrook_3_W.txt\n",
      "CRNH0203-2018-NY_Millbrook_3_W.txt\n",
      "CRNH0203-2019-NY_Millbrook_3_W.txt\n",
      "NYC\n",
      "CRNH0203-2015-NY_Millbrook_3_W.txt\n",
      "CRNH0203-2016-NY_Millbrook_3_W.txt\n",
      "CRNH0203-2017-NY_Millbrook_3_W.txt\n",
      "CRNH0203-2018-NY_Millbrook_3_W.txt\n",
      "CRNH0203-2019-NY_Millbrook_3_W.txt\n"
     ]
    }
   ],
   "source": [
    "for region in REGION_FILES.keys():\n",
    "    print(region)\n",
    "    for year in YEAR_FILES.keys():\n",
    "        print(PREFIX+SEP+year+SEP+REGION_FILES[region]+SUFFIX)\n",
    "        "
   ]
  },
  {
   "cell_type": "code",
   "execution_count": 7,
   "metadata": {},
   "outputs": [],
   "source": [
    "import re\n",
    "\n",
    "def clean_whitespace(s):\n",
    "\n",
    "    # Replace all runs of whitespace with a single dash\n",
    "    s = re.sub(r\"\\s+\", '_', s)\n",
    "\n",
    "    return s"
   ]
  },
  {
   "cell_type": "code",
   "execution_count": 21,
   "metadata": {},
   "outputs": [],
   "source": [
    "pv_data = {}\n",
    "\n",
    "\n",
    "for region in REGION_FILES.keys():\n",
    "    pv_data[region] = pd.read_csv(os.path.join(\"incorrect\", DATASET, region+\".csv\"))[[\"Demand\", \"Normalized_net\"]]"
   ]
  },
  {
   "cell_type": "code",
   "execution_count": 26,
   "metadata": {},
   "outputs": [],
   "source": [
    "for region in REGION_FILES.keys():\n",
    "    temp = \"\"\n",
    "\n",
    "    for year in YEAR_FILES.keys():\n",
    "        with open(os.path.join(\"raw\", DATASET,\n",
    "        PREFIX+SEP+year+SEP+REGION_FILES[region]+SUFFIX), \"r\") as fp:\n",
    "            lines = fp.readlines()\n",
    "        for line in lines:\n",
    "            temp+=clean_whitespace(line).split(\"_\")[9] + \"\\n\"\n",
    "\n",
    "\n",
    "    temp = [float(i) for i in temp.splitlines()]\n",
    "\n",
    "    for i in range(1, len(temp)):\n",
    "        if temp[i] == -9999.0:\n",
    "            temp[i] = temp[i-1]\n",
    "    \n",
    "    # plt.title(\"REGION:\"+ region)\n",
    "    # plt.plot(temp)\n",
    "    # plt.show()\n",
    "    \n",
    "    df = pd.DataFrame({\"Demand\":pv_data[region].Demand, \"Normalized_net\":pv_data[region].Normalized_net, \"Temprature\":temp})\n",
    "    df[[\"Demand\", \"Normalized_net\", \"Temprature\"]].to_csv(os.path.join(\"corrected\", DATASET, region+\".csv\"), index=False)\n",
    "\n",
    "                \n",
    "\n"
   ]
  },
  {
   "cell_type": "code",
   "execution_count": null,
   "metadata": {},
   "outputs": [],
   "source": []
  }
 ],
 "metadata": {
  "interpreter": {
   "hash": "545611afcfddb8327cbb3bced381d7ca496090464c7186b645aed9efaafd30c6"
  },
  "kernelspec": {
   "display_name": "Julia 1.0.5",
   "language": "python",
   "name": "python3"
  },
  "language_info": {
   "codemirror_mode": {
    "name": "ipython",
    "version": 3
   },
   "file_extension": ".py",
   "mimetype": "text/x-python",
   "name": "python",
   "nbconvert_exporter": "python",
   "pygments_lexer": "ipython3",
   "version": "3.9.10"
  },
  "orig_nbformat": 4
 },
 "nbformat": 4,
 "nbformat_minor": 2
}
