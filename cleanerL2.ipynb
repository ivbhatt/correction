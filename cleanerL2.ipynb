{
 "cells": [
  {
   "cell_type": "code",
   "execution_count": 1,
   "metadata": {},
   "outputs": [],
   "source": [
    "import os\n",
    "import pandas as pd\n",
    "import matplotlib.pyplot as plt"
   ]
  },
  {
   "cell_type": "code",
   "execution_count": 2,
   "metadata": {},
   "outputs": [],
   "source": [
    "DATASET = \"L2\""
   ]
  },
  {
   "cell_type": "code",
   "execution_count": 3,
   "metadata": {},
   "outputs": [],
   "source": [
    "REGION_FILES = {\n",
    "    \"COAST\" : \"TX_Port_Aransas_32_NNE\",\n",
    "    \"EAST\" : \"TX_Palestine_6_WNW\",\n",
    "    \"FWEST\" : \"TX_Monahans_6_ENE\",\n",
    "    \"NCENT\" : \"TX_Palestine_6_WNW\",\n",
    "    \"NORTH\" : \"TX_Muleshoe_19_S\",\n",
    "    \"SCENT\" : \"TX_Austin_33_NW\",\n",
    "    \"SOUTH\" : \"TX_Edinburg_17_NNE\",\n",
    "    \"WEST\" : \"TX_Bronte_11_NNE\"\n",
    "}\n",
    "\n",
    "\n",
    "YEAR_FILES = {\n",
    "    \"2015\": \"native_Load_2015.xls\",\n",
    "    \"2016\": \"native_Load_2016.xlsx\", \n",
    "    \"2017\": \"native_Load_2017.xlsx\", \n",
    "    \"2018\": \"native_Load_2018.xlsx\", \n",
    "    \"2019\": \"native_Load_2019.xlsx\"\n",
    "}\n",
    "\n",
    "PREFIX = \"CRNH0203\"\n",
    "SEP = \"-\"\n",
    "SUFFIX = \".txt\""
   ]
  },
  {
   "cell_type": "code",
   "execution_count": 4,
   "metadata": {},
   "outputs": [
    {
     "name": "stdout",
     "output_type": "stream",
     "text": [
      "COAST\n",
      "CRNH0203-2015-TX_Port_Aransas_32_NNE.txt\n",
      "CRNH0203-2016-TX_Port_Aransas_32_NNE.txt\n",
      "CRNH0203-2017-TX_Port_Aransas_32_NNE.txt\n",
      "CRNH0203-2018-TX_Port_Aransas_32_NNE.txt\n",
      "CRNH0203-2019-TX_Port_Aransas_32_NNE.txt\n",
      "EAST\n",
      "CRNH0203-2015-TX_Palestine_6_WNW.txt\n",
      "CRNH0203-2016-TX_Palestine_6_WNW.txt\n",
      "CRNH0203-2017-TX_Palestine_6_WNW.txt\n",
      "CRNH0203-2018-TX_Palestine_6_WNW.txt\n",
      "CRNH0203-2019-TX_Palestine_6_WNW.txt\n",
      "FWEST\n",
      "CRNH0203-2015-TX_Monahans_6_ENE.txt\n",
      "CRNH0203-2016-TX_Monahans_6_ENE.txt\n",
      "CRNH0203-2017-TX_Monahans_6_ENE.txt\n",
      "CRNH0203-2018-TX_Monahans_6_ENE.txt\n",
      "CRNH0203-2019-TX_Monahans_6_ENE.txt\n",
      "NCENT\n",
      "CRNH0203-2015-TX_Palestine_6_WNW.txt\n",
      "CRNH0203-2016-TX_Palestine_6_WNW.txt\n",
      "CRNH0203-2017-TX_Palestine_6_WNW.txt\n",
      "CRNH0203-2018-TX_Palestine_6_WNW.txt\n",
      "CRNH0203-2019-TX_Palestine_6_WNW.txt\n",
      "NORTH\n",
      "CRNH0203-2015-TX_Muleshoe_19_S.txt\n",
      "CRNH0203-2016-TX_Muleshoe_19_S.txt\n",
      "CRNH0203-2017-TX_Muleshoe_19_S.txt\n",
      "CRNH0203-2018-TX_Muleshoe_19_S.txt\n",
      "CRNH0203-2019-TX_Muleshoe_19_S.txt\n",
      "SCENT\n",
      "CRNH0203-2015-TX_Austin_33_NW.txt\n",
      "CRNH0203-2016-TX_Austin_33_NW.txt\n",
      "CRNH0203-2017-TX_Austin_33_NW.txt\n",
      "CRNH0203-2018-TX_Austin_33_NW.txt\n",
      "CRNH0203-2019-TX_Austin_33_NW.txt\n",
      "SOUTH\n",
      "CRNH0203-2015-TX_Edinburg_17_NNE.txt\n",
      "CRNH0203-2016-TX_Edinburg_17_NNE.txt\n",
      "CRNH0203-2017-TX_Edinburg_17_NNE.txt\n",
      "CRNH0203-2018-TX_Edinburg_17_NNE.txt\n",
      "CRNH0203-2019-TX_Edinburg_17_NNE.txt\n",
      "WEST\n",
      "CRNH0203-2015-TX_Bronte_11_NNE.txt\n",
      "CRNH0203-2016-TX_Bronte_11_NNE.txt\n",
      "CRNH0203-2017-TX_Bronte_11_NNE.txt\n",
      "CRNH0203-2018-TX_Bronte_11_NNE.txt\n",
      "CRNH0203-2019-TX_Bronte_11_NNE.txt\n"
     ]
    }
   ],
   "source": [
    "for region in REGION_FILES.keys():\n",
    "    print(region)\n",
    "    for year in YEAR_FILES.keys():\n",
    "        print(PREFIX+SEP+year+SEP+REGION_FILES[region]+SUFFIX)\n",
    "        "
   ]
  },
  {
   "cell_type": "code",
   "execution_count": 5,
   "metadata": {},
   "outputs": [],
   "source": [
    "import re\n",
    "\n",
    "def clean_whitespace(s):\n",
    "\n",
    "    # Replace all runs of whitespace with a single dash\n",
    "    s = re.sub(r\"\\s+\", '_', s)\n",
    "\n",
    "    return s"
   ]
  },
  {
   "cell_type": "code",
   "execution_count": 6,
   "metadata": {},
   "outputs": [],
   "source": [
    "pv_data = {}\n",
    "\n",
    "\n",
    "year = sorted(YEAR_FILES.keys())[0]\n",
    "pv_data = pd.read_excel(os.path.join(\"raw\", DATASET, YEAR_FILES[year]))\n",
    "\n",
    "for year in sorted(YEAR_FILES.keys())[1:]:\n",
    "    pv_data = pd.concat([pv_data, pd.read_excel(os.path.join(\"raw\", DATASET, YEAR_FILES[year]))])\n"
   ]
  },
  {
   "cell_type": "code",
   "execution_count": 7,
   "metadata": {},
   "outputs": [],
   "source": [
    "for region in REGION_FILES.keys():\n",
    "    temp = \"\"\n",
    "\n",
    "    for year in YEAR_FILES.keys():\n",
    "        with open(os.path.join(\"raw\", DATASET,\n",
    "        PREFIX+SEP+year+SEP+REGION_FILES[region]+SUFFIX), \"r\") as fp:\n",
    "            lines = fp.readlines()\n",
    "        for line in lines:\n",
    "            temp+=clean_whitespace(line).split(\"_\")[9] + \"\\n\"\n",
    "\n",
    "\n",
    "    temp = [float(i) for i in temp.splitlines()]\n",
    "\n",
    "    for i in range(1, len(temp)):\n",
    "        if temp[i] == -9999.0:\n",
    "            temp[i] = temp[i-1]\n",
    "    \n",
    "    # plt.title(\"REGION\")\n",
    "    # plt.plot(temp)\n",
    "    # plt.show()\n",
    "    \n",
    "    df = pd.DataFrame({\"Net\":pv_data[region], \"Temprature\":temp})\n",
    "    df[[\"Net\", \"Temprature\"]].to_csv(os.path.join(\"corrected\", DATASET, region+\".csv\"), index=False)\n",
    "\n",
    "                \n",
    "\n"
   ]
  },
  {
   "cell_type": "code",
   "execution_count": null,
   "metadata": {},
   "outputs": [],
   "source": []
  }
 ],
 "metadata": {
  "interpreter": {
   "hash": "545611afcfddb8327cbb3bced381d7ca496090464c7186b645aed9efaafd30c6"
  },
  "kernelspec": {
   "display_name": "Julia 1.0.5",
   "language": "python",
   "name": "python3"
  },
  "language_info": {
   "codemirror_mode": {
    "name": "ipython",
    "version": 3
   },
   "file_extension": ".py",
   "mimetype": "text/x-python",
   "name": "python",
   "nbconvert_exporter": "python",
   "pygments_lexer": "ipython3",
   "version": "3.9.10"
  },
  "orig_nbformat": 4
 },
 "nbformat": 4,
 "nbformat_minor": 2
}
